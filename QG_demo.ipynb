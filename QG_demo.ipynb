{
 "cells": [
  {
   "cell_type": "code",
   "execution_count": 2,
   "metadata": {},
   "outputs": [
    {
     "name": "stdout",
     "output_type": "stream",
     "text": [
      "\u001b[31mERROR: Can not perform a '--user' install. User site-packages are not visible in this virtualenv.\u001b[0m\n",
      "\u001b[31mERROR: Can not perform a '--user' install. User site-packages are not visible in this virtualenv.\u001b[0m\n",
      "\u001b[31mERROR: Can not perform a '--user' install. User site-packages are not visible in this virtualenv.\u001b[0m\n",
      "\u001b[31mERROR: Can not perform a '--user' install. User site-packages are not visible in this virtualenv.\u001b[0m\n",
      "\u001b[31mERROR: Can not perform a '--user' install. User site-packages are not visible in this virtualenv.\u001b[0m\n",
      "\u001b[31mERROR: Can not perform a '--user' install. User site-packages are not visible in this virtualenv.\u001b[0m\n",
      "\u001b[31mERROR: Can not perform a '--user' install. User site-packages are not visible in this virtualenv.\u001b[0m\n",
      "\u001b[31mERROR: Can not perform a '--user' install. User site-packages are not visible in this virtualenv.\u001b[0m\n",
      "\u001b[31mERROR: Can not perform a '--user' install. User site-packages are not visible in this virtualenv.\u001b[0m\n",
      "\u001b[31mERROR: Can not perform a '--user' install. User site-packages are not visible in this virtualenv.\u001b[0m\n"
     ]
    }
   ],
   "source": [
    "!pip install --user wget\n",
    "!pip install --user keras_tqdm\n",
    "!pip install --user scikit-hep\n",
    "!pip install --user matplotlib\n",
    "!pip install --user sklearn\n",
    "!pip install --user pandas\n",
    "!pip install --user numpy\n",
    "!pip install --user seaborn\n",
    "!pip install --user tensorflow\n",
    "!pip install --user keras"
   ]
  },
  {
   "cell_type": "markdown",
   "metadata": {},
   "source": [
    "pip installs above to make sure the notebook runs on SWAN and mybinder.\n",
    "Please restart the kernel after execution."
   ]
  },
  {
   "cell_type": "code",
   "execution_count": 3,
   "metadata": {},
   "outputs": [
    {
     "ename": "ImportError",
     "evalue": "No module named sklearn.model_selection",
     "output_type": "error",
     "traceback": [
      "\u001b[0;31m---------------------------------------------------------------------------\u001b[0m",
      "\u001b[0;31mImportError\u001b[0m                               Traceback (most recent call last)",
      "\u001b[0;32m<ipython-input-3-7d1248e3610f>\u001b[0m in \u001b[0;36m<module>\u001b[0;34m()\u001b[0m\n\u001b[1;32m      3\u001b[0m \u001b[0;34m\u001b[0m\u001b[0m\n\u001b[1;32m      4\u001b[0m \u001b[0;31m#Packages required for easy handling of data in python\u001b[0m\u001b[0;34m\u001b[0m\u001b[0;34m\u001b[0m\u001b[0m\n\u001b[0;32m----> 5\u001b[0;31m \u001b[0;32mfrom\u001b[0m \u001b[0msklearn\u001b[0m\u001b[0;34m.\u001b[0m\u001b[0mmodel_selection\u001b[0m \u001b[0;32mimport\u001b[0m \u001b[0mtrain_test_split\u001b[0m\u001b[0;34m\u001b[0m\u001b[0m\n\u001b[0m\u001b[1;32m      6\u001b[0m \u001b[0;31m#from root_pandas import read_root\u001b[0m\u001b[0;34m\u001b[0m\u001b[0;34m\u001b[0m\u001b[0m\n\u001b[1;32m      7\u001b[0m \u001b[0;32mimport\u001b[0m \u001b[0mpandas\u001b[0m \u001b[0;32mas\u001b[0m \u001b[0mpd\u001b[0m\u001b[0;34m\u001b[0m\u001b[0m\n",
      "\u001b[0;31mImportError\u001b[0m: No module named sklearn.model_selection"
     ]
    }
   ],
   "source": [
    "#Enables matplotlib plotting\n",
    "%matplotlib inline\n",
    "\n",
    "#Packages required for easy handling of data in python\n",
    "from sklearn.model_selection import train_test_split\n",
    "#from root_pandas import read_root\n",
    "import pandas as pd\n",
    "import wget\n",
    "import numpy as np\n",
    "import matplotlib.pyplot as plt\n",
    "import seaborn as sns\n",
    "sns.set(color_codes=True)"
   ]
  },
  {
   "cell_type": "code",
   "execution_count": 1,
   "metadata": {},
   "outputs": [
    {
     "ename": "NameError",
     "evalue": "name 'wget' is not defined",
     "output_type": "error",
     "traceback": [
      "\u001b[0;31m---------------------------------------------------------------------------\u001b[0m",
      "\u001b[0;31mNameError\u001b[0m                                 Traceback (most recent call last)",
      "\u001b[0;32m<ipython-input-1-eff224cd4d9d>\u001b[0m in \u001b[0;36m<module>\u001b[0;34m()\u001b[0m\n\u001b[1;32m      1\u001b[0m \u001b[0;31m# Download the dataset. Plain CSV to be independent of successful ROOT-setup on mybinder. 10K events, 100 MB, no progressbar, so be a bit patient\u001b[0m\u001b[0;34m\u001b[0m\u001b[0;34m\u001b[0m\u001b[0m\n\u001b[0;32m----> 2\u001b[0;31m \u001b[0mwget\u001b[0m\u001b[0;34m.\u001b[0m\u001b[0mdownload\u001b[0m\u001b[0;34m(\u001b[0m\u001b[0;34m'https://cernbox.cern.ch/index.php/s/7SPmV3ShdaQkG5C/download'\u001b[0m\u001b[0;34m)\u001b[0m\u001b[0;34m\u001b[0m\u001b[0m\n\u001b[0m",
      "\u001b[0;31mNameError\u001b[0m: name 'wget' is not defined"
     ]
    }
   ],
   "source": [
    "# Download the dataset. Plain CSV to be independent of successful ROOT-setup on mybinder. 10K events, 100 MB, no progressbar, so be a bit patient\n",
    "wget.download('https://cernbox.cern.ch/index.php/s/7SPmV3ShdaQkG5C/download')"
   ]
  },
  {
   "cell_type": "markdown",
   "metadata": {},
   "source": [
    "# Classifying quark and gluon jets using a deep neural network\n",
    "\n",
    "The task of correctly identifying whether jet originated from a gluon or quark is important for almost any analysis of proton-proton collisions. This information is used to identify collision events that might contain interesting new physics and also correcting for detector effects in measured energies of jets.\n",
    "\n",
    "As jets are objects created due to a color charge carrying particle hadronizing into a host of particles color neutral particles. This is a manifestation of the color confinement of the Strong interaction. Even though determining the particle that originated the jet is not directly visible from the end state particles, it can be inferred from the properties of the jet. Whether the initial particle was a gluon or quark affects the measurable distributions of the particles within the jet.\n",
    "\n",
    "Let us begin by loading a sample of simulated quark and gluon jets, and inspecting its contents"
   ]
  },
  {
   "cell_type": "code",
   "execution_count": 12,
   "metadata": {},
   "outputs": [
    {
     "data": {
      "text/html": [
       "<div>\n",
       "<style scoped>\n",
       "    .dataframe tbody tr th:only-of-type {\n",
       "        vertical-align: middle;\n",
       "    }\n",
       "\n",
       "    .dataframe tbody tr th {\n",
       "        vertical-align: top;\n",
       "    }\n",
       "\n",
       "    .dataframe thead th {\n",
       "        text-align: right;\n",
       "    }\n",
       "</style>\n",
       "<table border=\"1\" class=\"dataframe\">\n",
       "  <thead>\n",
       "    <tr style=\"text-align: right;\">\n",
       "      <th></th>\n",
       "      <th>jetPt</th>\n",
       "      <th>jetEta</th>\n",
       "      <th>jetPhi</th>\n",
       "      <th>jetMass</th>\n",
       "      <th>jetGirth</th>\n",
       "      <th>jetArea</th>\n",
       "      <th>jetRawPt</th>\n",
       "      <th>jetRawMass</th>\n",
       "      <th>jetLooseID</th>\n",
       "      <th>jetTightID</th>\n",
       "      <th>...</th>\n",
       "      <th>genJetPF_id</th>\n",
       "      <th>run</th>\n",
       "      <th>event</th>\n",
       "      <th>lumi</th>\n",
       "      <th>pthat</th>\n",
       "      <th>eventWeight</th>\n",
       "      <th>rho</th>\n",
       "      <th>PV_npvsGood</th>\n",
       "      <th>Pileup_nPU</th>\n",
       "      <th>Pileup_nTrueInt</th>\n",
       "    </tr>\n",
       "  </thead>\n",
       "  <tbody>\n",
       "    <tr>\n",
       "      <th>0</th>\n",
       "      <td>374.176178</td>\n",
       "      <td>1.562835</td>\n",
       "      <td>2.429501</td>\n",
       "      <td>50.372108</td>\n",
       "      <td>0.052072</td>\n",
       "      <td>0.837758</td>\n",
       "      <td>375.521698</td>\n",
       "      <td>50.553246</td>\n",
       "      <td>1</td>\n",
       "      <td>1</td>\n",
       "      <td>...</td>\n",
       "      <td>[2212, -3112, 130, 2212, 211, -211, -211, -211...</td>\n",
       "      <td>194533</td>\n",
       "      <td>611065</td>\n",
       "      <td>3773</td>\n",
       "      <td>361.382111</td>\n",
       "      <td>2.998160e+10</td>\n",
       "      <td>20.260740</td>\n",
       "      <td>25</td>\n",
       "      <td>36</td>\n",
       "      <td>23.871529</td>\n",
       "    </tr>\n",
       "    <tr>\n",
       "      <th>1</th>\n",
       "      <td>339.760498</td>\n",
       "      <td>0.591791</td>\n",
       "      <td>-0.669894</td>\n",
       "      <td>59.415878</td>\n",
       "      <td>0.125383</td>\n",
       "      <td>0.767945</td>\n",
       "      <td>341.480927</td>\n",
       "      <td>59.716740</td>\n",
       "      <td>1</td>\n",
       "      <td>1</td>\n",
       "      <td>...</td>\n",
       "      <td>[310, 211, -2212, 211, 2112, 2112, -211, 211, ...</td>\n",
       "      <td>194533</td>\n",
       "      <td>611065</td>\n",
       "      <td>3773</td>\n",
       "      <td>361.382111</td>\n",
       "      <td>2.998160e+10</td>\n",
       "      <td>20.260740</td>\n",
       "      <td>25</td>\n",
       "      <td>36</td>\n",
       "      <td>23.871529</td>\n",
       "    </tr>\n",
       "    <tr>\n",
       "      <th>2</th>\n",
       "      <td>143.208618</td>\n",
       "      <td>-2.078316</td>\n",
       "      <td>-1.403314</td>\n",
       "      <td>26.264837</td>\n",
       "      <td>0.124602</td>\n",
       "      <td>0.787892</td>\n",
       "      <td>147.490463</td>\n",
       "      <td>27.050138</td>\n",
       "      <td>1</td>\n",
       "      <td>1</td>\n",
       "      <td>...</td>\n",
       "      <td>[-211, 211, -211, 22, 22, 2112, -321, 211, -31...</td>\n",
       "      <td>194533</td>\n",
       "      <td>611067</td>\n",
       "      <td>3773</td>\n",
       "      <td>139.513870</td>\n",
       "      <td>2.998160e+10</td>\n",
       "      <td>16.580879</td>\n",
       "      <td>15</td>\n",
       "      <td>19</td>\n",
       "      <td>29.306194</td>\n",
       "    </tr>\n",
       "    <tr>\n",
       "      <th>3</th>\n",
       "      <td>104.605072</td>\n",
       "      <td>0.926772</td>\n",
       "      <td>1.436261</td>\n",
       "      <td>19.602530</td>\n",
       "      <td>0.116213</td>\n",
       "      <td>0.738025</td>\n",
       "      <td>112.167809</td>\n",
       "      <td>21.019754</td>\n",
       "      <td>1</td>\n",
       "      <td>1</td>\n",
       "      <td>...</td>\n",
       "      <td>[130, 13, 130, 310, -14, -13, 14, -211, 130, -...</td>\n",
       "      <td>194533</td>\n",
       "      <td>611067</td>\n",
       "      <td>3773</td>\n",
       "      <td>139.513870</td>\n",
       "      <td>2.998160e+10</td>\n",
       "      <td>16.580879</td>\n",
       "      <td>15</td>\n",
       "      <td>19</td>\n",
       "      <td>29.306194</td>\n",
       "    </tr>\n",
       "    <tr>\n",
       "      <th>4</th>\n",
       "      <td>64.694748</td>\n",
       "      <td>1.130218</td>\n",
       "      <td>-2.810546</td>\n",
       "      <td>15.806414</td>\n",
       "      <td>0.210639</td>\n",
       "      <td>0.777918</td>\n",
       "      <td>73.752472</td>\n",
       "      <td>18.019424</td>\n",
       "      <td>1</td>\n",
       "      <td>1</td>\n",
       "      <td>...</td>\n",
       "      <td>[321, 22, 22, 22, -14, -321, 22, 22, 13, -211,...</td>\n",
       "      <td>194533</td>\n",
       "      <td>611067</td>\n",
       "      <td>3773</td>\n",
       "      <td>139.513870</td>\n",
       "      <td>2.998160e+10</td>\n",
       "      <td>16.580879</td>\n",
       "      <td>15</td>\n",
       "      <td>19</td>\n",
       "      <td>29.306194</td>\n",
       "    </tr>\n",
       "  </tbody>\n",
       "</table>\n",
       "<p>5 rows × 60 columns</p>\n",
       "</div>"
      ],
      "text/plain": [
       "        jetPt    jetEta    jetPhi    jetMass  jetGirth   jetArea    jetRawPt  \\\n",
       "0  374.176178  1.562835  2.429501  50.372108  0.052072  0.837758  375.521698   \n",
       "1  339.760498  0.591791 -0.669894  59.415878  0.125383  0.767945  341.480927   \n",
       "2  143.208618 -2.078316 -1.403314  26.264837  0.124602  0.787892  147.490463   \n",
       "3  104.605072  0.926772  1.436261  19.602530  0.116213  0.738025  112.167809   \n",
       "4   64.694748  1.130218 -2.810546  15.806414  0.210639  0.777918   73.752472   \n",
       "\n",
       "   jetRawMass  jetLooseID  jetTightID       ...         \\\n",
       "0   50.553246           1           1       ...          \n",
       "1   59.716740           1           1       ...          \n",
       "2   27.050138           1           1       ...          \n",
       "3   21.019754           1           1       ...          \n",
       "4   18.019424           1           1       ...          \n",
       "\n",
       "                                         genJetPF_id     run   event  lumi  \\\n",
       "0  [2212, -3112, 130, 2212, 211, -211, -211, -211...  194533  611065  3773   \n",
       "1  [310, 211, -2212, 211, 2112, 2112, -211, 211, ...  194533  611065  3773   \n",
       "2  [-211, 211, -211, 22, 22, 2112, -321, 211, -31...  194533  611067  3773   \n",
       "3  [130, 13, 130, 310, -14, -13, 14, -211, 130, -...  194533  611067  3773   \n",
       "4  [321, 22, 22, 22, -14, -321, 22, 22, 13, -211,...  194533  611067  3773   \n",
       "\n",
       "        pthat   eventWeight        rho  PV_npvsGood  Pileup_nPU  \\\n",
       "0  361.382111  2.998160e+10  20.260740           25          36   \n",
       "1  361.382111  2.998160e+10  20.260740           25          36   \n",
       "2  139.513870  2.998160e+10  16.580879           15          19   \n",
       "3  139.513870  2.998160e+10  16.580879           15          19   \n",
       "4  139.513870  2.998160e+10  16.580879           15          19   \n",
       "\n",
       "   Pileup_nTrueInt  \n",
       "0        23.871529  \n",
       "1        23.871529  \n",
       "2        29.306194  \n",
       "3        29.306194  \n",
       "4        29.306194  \n",
       "\n",
       "[5 rows x 60 columns]"
      ]
     },
     "execution_count": 12,
     "metadata": {},
     "output_type": "execute_result"
    }
   ],
   "source": [
    "#Read data into a pandas DataFrame. Sorry this also takes a moment, approx half a minute\n",
    "#data = read_root('../ForOutreach/small_10K.root')\n",
    "#Not used here, but would work like above for root files (with root and root_pandas successfully installed)\n",
    "\n",
    "#Read in CSV\n",
    "data = pd.read_csv(\"small_10K.csv\")\n",
    "data.head()"
   ]
  },
  {
   "cell_type": "code",
   "execution_count": 4,
   "metadata": {},
   "outputs": [],
   "source": [
    "#easy way to export as uncompressed csv\n",
    "#data.to_csv('../ForOutreach/small_10K.csv')"
   ]
  },
  {
   "cell_type": "markdown",
   "metadata": {},
   "source": [
    "First we select a set of variables that is known to contain useful information that can be used to separate quarks and gluons. All of these are mostly resulting from gluons being twice as likely to split into two compared to quarks. These variables are:\n",
    "\n",
    "__Jet multiplicity__. The number of charged particles in the jet. One would expect there to be on average more particles in a gluon jet than a quark jet.\n",
    "\n",
    "__Jet energy sharing variable__, $p_\\text{T}D$. Describes how evenly the energy is split between the particles inside the jet. Quark jets tend to have the energy centered mostly to a few particles, whereas gluon jets have their energy more evenly spread to all the constituent particles.\n",
    "\n",
    "__Jet minor axis__, $\\sigma_{2}$. Describes the shape of the jet. The gluon jets are wider on average compared to quark jets.\n",
    "\n",
    "Separating the relevant features from our dataframe and forming a binary target that is 1 if the jet is from a gluon and 0 if its from a quark "
   ]
  },
  {
   "cell_type": "code",
   "execution_count": 5,
   "metadata": {},
   "outputs": [
    {
     "name": "stdout",
     "output_type": "stream",
     "text": [
      "      QG_mult  QG_ptD  QG_axis2  target\n",
      "5429        0     NaN       0.0       0\n",
      "8210        0     NaN       0.0       0\n",
      "9703        0     NaN       0.0       0\n"
     ]
    },
    {
     "data": {
      "text/plain": [
       "QG_mult     0\n",
       "QG_ptD      0\n",
       "QG_axis2    0\n",
       "target      0\n",
       "dtype: int64"
      ]
     },
     "execution_count": 5,
     "metadata": {},
     "output_type": "execute_result"
    }
   ],
   "source": [
    "#Selecting the interesting features\n",
    "df_=data[['QG_mult','QG_ptD','QG_axis2']].copy()\n",
    "\n",
    "#Adding a column containing the target\n",
    "df_['target']=data['isPhysG']\n",
    "\n",
    "#we have some data quality issue here: NaNs are nasty, so clean them away\n",
    "print(df_[df_['QG_ptD'].isnull()])\n",
    "df_.isna().sum()\n",
    "df_=df_.dropna()\n",
    "df_.isna().sum()"
   ]
  },
  {
   "cell_type": "markdown",
   "metadata": {},
   "source": [
    "Its always a good idea to inspect the distributions before starting to put too much effort into the machine learning task, just to see if there is something obvious visible in the data. Let us plot the variables to histograms."
   ]
  },
  {
   "cell_type": "code",
   "execution_count": 6,
   "metadata": {},
   "outputs": [
    {
     "data": {
      "image/png": "[encoded data removed]",
      "text/plain": [
       "<Figure size 1440x720 with 3 Axes>"
      ]
     },
     "metadata": {},
     "output_type": "display_data"
    }
   ],
   "source": [
    "%matplotlib inline\n",
    "columns=['QG_mult','QG_ptD','QG_axis2']\n",
    "binnings=[np.arange(0.0,36.0,1.0),np.arange(0.0,1.0,0.1),np.arange(0.0,0.2,0.01)]\n",
    "ind=0\n",
    "fig,axes = plt.subplots(1,3,figsize=(20,10))\n",
    "for column in columns:\n",
    "    #print ind, binnings[ind]\n",
    "    axes[ind].hist(df_[df_['target']==1][column],bins=binnings[ind],alpha=0.8,label='Gluon',density=1)\n",
    "    axes[ind].hist(df_[df_['target']==0][column],bins=binnings[ind],alpha=0.8,label='Quark',density=1)\n",
    "    axes[ind].set_xlabel(column)\n",
    "    axes[ind].legend()\n",
    "    ind=ind+1"
   ]
  },
  {
   "cell_type": "markdown",
   "metadata": {},
   "source": [
    "Clearly there are some differences. For example chosing jets with more than 20 charged particles and minor axis value larger than 0.1 would contain mostly gluon jets. However we can do better by using a machine learning algorithm to learn these decision rules for us.\n",
    "\n",
    "# Keras - Tool for Deep Learning\n",
    "\n",
    "Keras provides a very simple interface to very powerful deep learning libraries like TensorFlow by Google. It is the framework of preference for many in the particle physics community. Next we'll demonstrate that with just a few lines of code, we can produce a neural network classifier that is able to separate quark and gluon jets quite well."
   ]
  },
  {
   "cell_type": "code",
   "execution_count": 7,
   "metadata": {},
   "outputs": [
    {
     "name": "stderr",
     "output_type": "stream",
     "text": [
      "Using TensorFlow backend.\n"
     ]
    },
    {
     "data": {
      "application/vnd.jupyter.widget-view+json": {
       "model_id": "e421f97ba63e4618b88a75b2f4a18bff",
       "version_major": 2,
       "version_minor": 0
      },
      "text/plain": [
       "SEJveChjaGlsZHJlbj0oSW50UHJvZ3Jlc3ModmFsdWU9MCwgZGVzY3JpcHRpb249dSdUcmFpbmluZycsIG1heD0xMCwgc3R5bGU9UHJvZ3Jlc3NTdHlsZShkZXNjcmlwdGlvbl93aWR0aD11J2nigKY=\n"
      ]
     },
     "metadata": {},
     "output_type": "display_data"
    },
    {
     "data": {
      "application/vnd.jupyter.widget-view+json": {
       "model_id": "",
       "version_major": 2,
       "version_minor": 0
      },
      "text/plain": [
       "SEJveChjaGlsZHJlbj0oSW50UHJvZ3Jlc3ModmFsdWU9MCwgZGVzY3JpcHRpb249dSdFcG9jaCAwJywgbWF4PTc2NDcsIHN0eWxlPVByb2dyZXNzU3R5bGUoZGVzY3JpcHRpb25fd2lkdGg9dSfigKY=\n"
      ]
     },
     "metadata": {},
     "output_type": "display_data"
    },
    {
     "data": {
      "application/vnd.jupyter.widget-view+json": {
       "model_id": "",
       "version_major": 2,
       "version_minor": 0
      },
      "text/plain": [
       "SEJveChjaGlsZHJlbj0oSW50UHJvZ3Jlc3ModmFsdWU9MCwgZGVzY3JpcHRpb249dSdFcG9jaCAxJywgbWF4PTc2NDcsIHN0eWxlPVByb2dyZXNzU3R5bGUoZGVzY3JpcHRpb25fd2lkdGg9dSfigKY=\n"
      ]
     },
     "metadata": {},
     "output_type": "display_data"
    },
    {
     "data": {
      "application/vnd.jupyter.widget-view+json": {
       "model_id": "",
       "version_major": 2,
       "version_minor": 0
      },
      "text/plain": [
       "SEJveChjaGlsZHJlbj0oSW50UHJvZ3Jlc3ModmFsdWU9MCwgZGVzY3JpcHRpb249dSdFcG9jaCAyJywgbWF4PTc2NDcsIHN0eWxlPVByb2dyZXNzU3R5bGUoZGVzY3JpcHRpb25fd2lkdGg9dSfigKY=\n"
      ]
     },
     "metadata": {},
     "output_type": "display_data"
    },
    {
     "data": {
      "application/vnd.jupyter.widget-view+json": {
       "model_id": "",
       "version_major": 2,
       "version_minor": 0
      },
      "text/plain": [
       "SEJveChjaGlsZHJlbj0oSW50UHJvZ3Jlc3ModmFsdWU9MCwgZGVzY3JpcHRpb249dSdFcG9jaCAzJywgbWF4PTc2NDcsIHN0eWxlPVByb2dyZXNzU3R5bGUoZGVzY3JpcHRpb25fd2lkdGg9dSfigKY=\n"
      ]
     },
     "metadata": {},
     "output_type": "display_data"
    },
    {
     "data": {
      "application/vnd.jupyter.widget-view+json": {
       "model_id": "",
       "version_major": 2,
       "version_minor": 0
      },
      "text/plain": [
       "SEJveChjaGlsZHJlbj0oSW50UHJvZ3Jlc3ModmFsdWU9MCwgZGVzY3JpcHRpb249dSdFcG9jaCA0JywgbWF4PTc2NDcsIHN0eWxlPVByb2dyZXNzU3R5bGUoZGVzY3JpcHRpb25fd2lkdGg9dSfigKY=\n"
      ]
     },
     "metadata": {},
     "output_type": "display_data"
    },
    {
     "data": {
      "application/vnd.jupyter.widget-view+json": {
       "model_id": "",
       "version_major": 2,
       "version_minor": 0
      },
      "text/plain": [
       "SEJveChjaGlsZHJlbj0oSW50UHJvZ3Jlc3ModmFsdWU9MCwgZGVzY3JpcHRpb249dSdFcG9jaCA1JywgbWF4PTc2NDcsIHN0eWxlPVByb2dyZXNzU3R5bGUoZGVzY3JpcHRpb25fd2lkdGg9dSfigKY=\n"
      ]
     },
     "metadata": {},
     "output_type": "display_data"
    },
    {
     "data": {
      "application/vnd.jupyter.widget-view+json": {
       "model_id": "",
       "version_major": 2,
       "version_minor": 0
      },
      "text/plain": [
       "SEJveChjaGlsZHJlbj0oSW50UHJvZ3Jlc3ModmFsdWU9MCwgZGVzY3JpcHRpb249dSdFcG9jaCA2JywgbWF4PTc2NDcsIHN0eWxlPVByb2dyZXNzU3R5bGUoZGVzY3JpcHRpb25fd2lkdGg9dSfigKY=\n"
      ]
     },
     "metadata": {},
     "output_type": "display_data"
    },
    {
     "data": {
      "application/vnd.jupyter.widget-view+json": {
       "model_id": "",
       "version_major": 2,
       "version_minor": 0
      },
      "text/plain": [
       "SEJveChjaGlsZHJlbj0oSW50UHJvZ3Jlc3ModmFsdWU9MCwgZGVzY3JpcHRpb249dSdFcG9jaCA3JywgbWF4PTc2NDcsIHN0eWxlPVByb2dyZXNzU3R5bGUoZGVzY3JpcHRpb25fd2lkdGg9dSfigKY=\n"
      ]
     },
     "metadata": {},
     "output_type": "display_data"
    },
    {
     "data": {
      "application/vnd.jupyter.widget-view+json": {
       "model_id": "",
       "version_major": 2,
       "version_minor": 0
      },
      "text/plain": [
       "SEJveChjaGlsZHJlbj0oSW50UHJvZ3Jlc3ModmFsdWU9MCwgZGVzY3JpcHRpb249dSdFcG9jaCA4JywgbWF4PTc2NDcsIHN0eWxlPVByb2dyZXNzU3R5bGUoZGVzY3JpcHRpb25fd2lkdGg9dSfigKY=\n"
      ]
     },
     "metadata": {},
     "output_type": "display_data"
    },
    {
     "data": {
      "application/vnd.jupyter.widget-view+json": {
       "model_id": "",
       "version_major": 2,
       "version_minor": 0
      },
      "text/plain": [
       "SEJveChjaGlsZHJlbj0oSW50UHJvZ3Jlc3ModmFsdWU9MCwgZGVzY3JpcHRpb249dSdFcG9jaCA5JywgbWF4PTc2NDcsIHN0eWxlPVByb2dyZXNzU3R5bGUoZGVzY3JpcHRpb25fd2lkdGg9dSfigKY=\n"
      ]
     },
     "metadata": {},
     "output_type": "display_data"
    },
    {
     "name": "stdout",
     "output_type": "stream",
     "text": [
      "\n"
     ]
    },
    {
     "data": {
      "text/plain": [
       "<keras.callbacks.History at 0x7f63397f98d0>"
      ]
     },
     "execution_count": 7,
     "metadata": {},
     "output_type": "execute_result"
    },
    {
     "name": "stderr",
     "output_type": "stream",
     "text": [
      "2018-12-07 02:40:05.844959: I tensorflow/core/platform/cpu_feature_guard.cc:140] Your CPU supports instructions that this TensorFlow binary was not compiled to use: SSE4.1 SSE4.2 AVX AVX2 FMA\n"
     ]
    }
   ],
   "source": [
    "#Importing some functions from keras and initializing it\n",
    "\n",
    "import tensorflow as tf\n",
    "import keras.backend as K\n",
    "sess = tf.Session()\n",
    "K.set_session(sess)\n",
    "\n",
    "from keras_tqdm import TQDMNotebookCallback\n",
    "from keras.models import Model\n",
    "from keras.layers import Input,Dense\n",
    "from sklearn.utils import class_weight\n",
    "\n",
    "#Split the data into training and test sample so that we test on data we havent\n",
    "#used in training. We split target to a separate dataframe so we dont use it in\n",
    "#training\n",
    "train_x,test = train_test_split(df_,test_size=0.15,random_state=7)\n",
    "train_y = np.array(train_x.target)\n",
    "train_x = np.array(train_x.drop(['target'],axis=1))\n",
    "\n",
    "#Defining the network shape\n",
    "a_inp = Input(shape=(train_x.shape[1],))\n",
    "a = Dense(50,activation='relu')(a_inp)\n",
    "a = Dense(50,activation='relu')(a)\n",
    "a = Dense(50,activation='relu')(a)\n",
    "a_out = Dense(1,activation='sigmoid')(a)\n",
    "model = Model(inputs=a_inp,outputs=a_out)\n",
    "model.compile(loss='binary_crossentropy',optimizer='Adam',metrics=['acc'])\n",
    "\n",
    "#weight the training samples so that there is equal weight on gluon and quark jets\n",
    "#even if there are different amount of them\n",
    "class_weights = class_weight.compute_class_weight('balanced',np.unique(train_y),train_y[:])\n",
    "\n",
    "#Perform the training\n",
    "model.fit(train_x,train_y,epochs=10,batch_size=1024,class_weight=class_weights,\n",
    "         validation_split=0.1,shuffle=True,verbose=0, callbacks=[TQDMNotebookCallback()])"
   ]
  },
  {
   "cell_type": "markdown",
   "metadata": {},
   "source": [
    "Using the trained model, we can predict the classes of jets based on the three input variables. Let as create predictions for the test set and see how much our predictions separate the quark and gluon jets from each other."
   ]
  },
  {
   "cell_type": "code",
   "execution_count": 8,
   "metadata": {},
   "outputs": [
    {
     "name": "stderr",
     "output_type": "stream",
     "text": [
      "/cvmfs/sft.cern.ch/lcg/views/LCG_94/x86_64-slc6-gcc62-opt/lib/python2.7/site-packages/pandas/core/indexing.py:362: SettingWithCopyWarning: \n",
      "A value is trying to be set on a copy of a slice from a DataFrame.\n",
      "Try using .loc[row_indexer,col_indexer] = value instead\n",
      "\n",
      "See the caveats in the documentation: http://pandas.pydata.org/pandas-docs/stable/indexing.html#indexing-view-versus-copy\n",
      "  self.obj[key] = _infer_fill_value(value)\n",
      "/cvmfs/sft.cern.ch/lcg/views/LCG_94/x86_64-slc6-gcc62-opt/lib/python2.7/site-packages/pandas/core/indexing.py:543: SettingWithCopyWarning: \n",
      "A value is trying to be set on a copy of a slice from a DataFrame.\n",
      "Try using .loc[row_indexer,col_indexer] = value instead\n",
      "\n",
      "See the caveats in the documentation: http://pandas.pydata.org/pandas-docs/stable/indexing.html#indexing-view-versus-copy\n",
      "  self.obj[item] = s\n"
     ]
    },
    {
     "data": {
      "text/plain": [
       "Text(0.5,1,'DNN classifier')"
      ]
     },
     "execution_count": 8,
     "metadata": {},
     "output_type": "execute_result"
    },
    {
     "data": {
      "image/png": "[encoded data removed]",
      "text/plain": [
       "<Figure size 432x288 with 1 Axes>"
      ]
     },
     "metadata": {},
     "output_type": "display_data"
    }
   ],
   "source": [
    "test.loc[:,'predictions']=model.predict(np.array(test[['QG_mult','QG_ptD','QG_axis2']].copy()))\n",
    "\n",
    "plt.clf()\n",
    "binning=np.arange(0.0,1.0,0.05)\n",
    "plt.hist(test[test['target']==1]['predictions'],bins=binning,alpha=0.8,label=\"Gluons\",density=1)\n",
    "plt.hist(test[test['target']==0]['predictions'],bins=binning,alpha=0.8,label=\"Quarks\",density=1)\n",
    "plt.legend()\n",
    "plt.xlabel('DNN output value')\n",
    "plt.title('DNN classifier')"
   ]
  },
  {
   "cell_type": "code",
   "execution_count": 9,
   "metadata": {},
   "outputs": [
    {
     "data": {
      "image/png": "[encoded data removed]",
      "text/plain": [
       "<Figure size 432x288 with 1 Axes>"
      ]
     },
     "metadata": {},
     "output_type": "display_data"
    }
   ],
   "source": [
    "from sklearn.metrics import roc_auc_score,roc_curve,auc\n",
    "fpr,tpr, thresholds  = roc_curve(np.array(test['target']),np.array(test['predictions']))\n",
    "roc_auc = auc(fpr, tpr)\n",
    "\n",
    "\n",
    "plt.clf()\n",
    "plt.plot(fpr,tpr,'b',label='Classifier AUC = %0.2f'% roc_auc)\n",
    "plt.plot([0,1],[0,1],'k--')\n",
    "plt.xlim([0.0,1.0])\n",
    "plt.ylim([0.0,1.0])\n",
    "plt.legend(loc='lower right')\n",
    "plt.title(\"Receiver Operating Characteristic\")\n",
    "plt.ylabel('True positive rate')\n",
    "plt.xlabel('False positive rate')\n",
    "plt.savefig('roc_curve.png')"
   ]
  },
  {
   "cell_type": "markdown",
   "metadata": {},
   "source": [
    "The new variable shows better separation between quark and gluon jets than any of the three variables on their own. However the strength of Deep neural networks is not in the use of this type of high level variables, but instead using very low level features and find a new representation of the data that optimizes the discrimination power. \n",
    "\n",
    "The dataset contains variables with prefixes Cpfcand and Npfcand. These are the particles that belong to the jet. We try adding this information and use a larger network to see if it can extract extra information from these low level features to discriminate between the quarks and gluons better."
   ]
  },
  {
   "cell_type": "code",
   "execution_count": 13,
   "metadata": {},
   "outputs": [
    {
     "name": "stdout",
     "output_type": "stream",
     "text": [
      "                                               PF_pT  \\\n",
      "0  [0.22757794, 0.26842463, 241.56259, 30.126059,...   \n",
      "1  [58.993587, 8.08517, 5.8619146, 38.5777, 52.47...   \n",
      "2  [0.9503542, 1.0043958, 0.30871335, 0.39404112,...   \n",
      "3  [1.3076097, 0.3242642, 0.72490275, 0.64082927,...   \n",
      "4  [8.761218, 13.209428, 3.096979, 0.97768074, 1....   \n",
      "\n",
      "                                               PF_dR  \\\n",
      "0  [0.5178414, 0.71911484, 0.010564437, 0.0181622...   \n",
      "1  [0.045647778, 0.057157222, 0.11558378, 0.04021...   \n",
      "2  [0.7393419, 0.6270826, 0.62194747, 0.57005084,...   \n",
      "3  [0.41097122, 0.42760095, 0.21526802, 0.4693557...   \n",
      "4  [0.117761195, 0.08759104, 0.07384297, 0.115248...   \n",
      "\n",
      "                                       PF_fromAK5Jet  \n",
      "0  [0, 0, 1, 1, 1, 1, 1, 1, 1, 1, 0, 0, 1, 1, 0, ...  \n",
      "1  [1, 1, 1, 1, 1, 1, 1, 1, 1, 1, 1, 1, 1, 1, 1, ...  \n",
      "2  [0, 0, 0, 0, 1, 1, 1, 1, 1, 1, 1, 1, 1, 1, 1, ...  \n",
      "3  [1, 1, 1, 1, 0, 0, 0, 1, 0, 0, 0, 0, 0, 0, 0, ...  \n",
      "4  [1, 1, 1, 1, 1, 1, 1, 1, 1, 1, 1, 1, 0, 0, 0, ...  \n",
      "   QG_mult    QG_ptD  QG_axis2  target\n",
      "0       12  0.837114  0.003667       0\n",
      "1       41  0.314994  0.054664       1\n",
      "2       17  0.401599  0.038365       1\n",
      "3       13  0.451963  0.024727       0\n",
      "4       21  0.324736  0.057511       0\n",
      "   QG_mult    QG_ptD  QG_axis2  target   PF_pT_0   PF_pT_1   PF_pT_2  \\\n",
      "0       12  0.837114  0.003667       0  0.217060  0.558474  0.213940   \n",
      "1       41  0.314994  0.054664       1  0.777357  0.455838  0.385127   \n",
      "2       17  0.401599  0.038365       1  0.455874  0.872096  0.515497   \n",
      "3       13  0.451963  0.024727       0  0.635286  0.351020  0.326071   \n",
      "4       21  0.324736  0.057511       0  0.575293  0.958503  0.540317   \n",
      "\n",
      "    PF_pT_3   PF_pT_4   PF_pT_5        ...         PF_fromAK5Jet_10  \\\n",
      "0  0.324484  0.267828  0.186783        ...                      0.0   \n",
      "1  0.488944  0.425222  0.478014        ...                      1.0   \n",
      "2  0.426172  0.550949  0.662838        ...                      0.0   \n",
      "3  0.544046  0.767501  0.651412        ...                      0.0   \n",
      "4  0.244497  0.611515  0.688750        ...                      0.0   \n",
      "\n",
      "   PF_fromAK5Jet_11  PF_fromAK5Jet_12  PF_fromAK5Jet_13  PF_fromAK5Jet_14  \\\n",
      "0               0.0               1.0               0.0               1.0   \n",
      "1               0.0               0.0               0.0               0.0   \n",
      "2               0.0               1.0               0.0               0.0   \n",
      "3               0.0               1.0               1.0               0.0   \n",
      "4               0.0               0.0               0.0               1.0   \n",
      "\n",
      "   PF_fromAK5Jet_15  PF_fromAK5Jet_16  PF_fromAK5Jet_17  PF_fromAK5Jet_18  \\\n",
      "0               0.0               0.0               0.0               0.0   \n",
      "1               0.0               0.0               0.0               0.0   \n",
      "2               0.0               0.0               0.0               0.0   \n",
      "3               0.0               0.0               0.0               0.0   \n",
      "4               0.0               0.0               0.0               0.0   \n",
      "\n",
      "   PF_fromAK5Jet_19  \n",
      "0               0.0  \n",
      "1               0.0  \n",
      "2               0.0  \n",
      "3               1.0  \n",
      "4               0.0  \n",
      "\n",
      "[5 rows x 64 columns]\n"
     ]
    },
    {
     "data": {
      "application/vnd.jupyter.widget-view+json": {
       "model_id": "1431d2a9a90f4c5587ef78f1ddf40d94",
       "version_major": 2,
       "version_minor": 0
      },
      "text/plain": [
       "SEJveChjaGlsZHJlbj0oSW50UHJvZ3Jlc3ModmFsdWU9MCwgZGVzY3JpcHRpb249dSdUcmFpbmluZycsIG1heD02LCBzdHlsZT1Qcm9ncmVzc1N0eWxlKGRlc2NyaXB0aW9uX3dpZHRoPXUnaW7igKY=\n"
      ]
     },
     "metadata": {},
     "output_type": "display_data"
    },
    {
     "data": {
      "application/vnd.jupyter.widget-view+json": {
       "model_id": "",
       "version_major": 2,
       "version_minor": 0
      },
      "text/plain": [
       "SEJveChjaGlsZHJlbj0oSW50UHJvZ3Jlc3ModmFsdWU9MCwgZGVzY3JpcHRpb249dSdFcG9jaCAwJywgbWF4PTc2NDcsIHN0eWxlPVByb2dyZXNzU3R5bGUoZGVzY3JpcHRpb25fd2lkdGg9dSfigKY=\n"
      ]
     },
     "metadata": {},
     "output_type": "display_data"
    },
    {
     "data": {
      "application/vnd.jupyter.widget-view+json": {
       "model_id": "",
       "version_major": 2,
       "version_minor": 0
      },
      "text/plain": [
       "SEJveChjaGlsZHJlbj0oSW50UHJvZ3Jlc3ModmFsdWU9MCwgZGVzY3JpcHRpb249dSdFcG9jaCAxJywgbWF4PTc2NDcsIHN0eWxlPVByb2dyZXNzU3R5bGUoZGVzY3JpcHRpb25fd2lkdGg9dSfigKY=\n"
      ]
     },
     "metadata": {},
     "output_type": "display_data"
    },
    {
     "data": {
      "application/vnd.jupyter.widget-view+json": {
       "model_id": "",
       "version_major": 2,
       "version_minor": 0
      },
      "text/plain": [
       "SEJveChjaGlsZHJlbj0oSW50UHJvZ3Jlc3ModmFsdWU9MCwgZGVzY3JpcHRpb249dSdFcG9jaCAyJywgbWF4PTc2NDcsIHN0eWxlPVByb2dyZXNzU3R5bGUoZGVzY3JpcHRpb25fd2lkdGg9dSfigKY=\n"
      ]
     },
     "metadata": {},
     "output_type": "display_data"
    },
    {
     "data": {
      "application/vnd.jupyter.widget-view+json": {
       "model_id": "",
       "version_major": 2,
       "version_minor": 0
      },
      "text/plain": [
       "SEJveChjaGlsZHJlbj0oSW50UHJvZ3Jlc3ModmFsdWU9MCwgZGVzY3JpcHRpb249dSdFcG9jaCAzJywgbWF4PTc2NDcsIHN0eWxlPVByb2dyZXNzU3R5bGUoZGVzY3JpcHRpb25fd2lkdGg9dSfigKY=\n"
      ]
     },
     "metadata": {},
     "output_type": "display_data"
    },
    {
     "data": {
      "application/vnd.jupyter.widget-view+json": {
       "model_id": "",
       "version_major": 2,
       "version_minor": 0
      },
      "text/plain": [
       "SEJveChjaGlsZHJlbj0oSW50UHJvZ3Jlc3ModmFsdWU9MCwgZGVzY3JpcHRpb249dSdFcG9jaCA0JywgbWF4PTc2NDcsIHN0eWxlPVByb2dyZXNzU3R5bGUoZGVzY3JpcHRpb25fd2lkdGg9dSfigKY=\n"
      ]
     },
     "metadata": {},
     "output_type": "display_data"
    },
    {
     "data": {
      "application/vnd.jupyter.widget-view+json": {
       "model_id": "",
       "version_major": 2,
       "version_minor": 0
      },
      "text/plain": [
       "SEJveChjaGlsZHJlbj0oSW50UHJvZ3Jlc3ModmFsdWU9MCwgZGVzY3JpcHRpb249dSdFcG9jaCA1JywgbWF4PTc2NDcsIHN0eWxlPVByb2dyZXNzU3R5bGUoZGVzY3JpcHRpb25fd2lkdGg9dSfigKY=\n"
      ]
     },
     "metadata": {},
     "output_type": "display_data"
    },
    {
     "name": "stdout",
     "output_type": "stream",
     "text": [
      "\n"
     ]
    },
    {
     "data": {
      "text/plain": [
       "<keras.callbacks.History at 0x7f62a41c6a10>"
      ]
     },
     "execution_count": 13,
     "metadata": {},
     "output_type": "execute_result"
    }
   ],
   "source": [
    "#below only works if root-file read in directly (probably because of per-particle information not written/read properly in csv-files)\n",
    "\n",
    "from keras_preprocessing.sequence import pad_sequences\n",
    "data_=data[['QG_mult','QG_ptD','QG_axis2']].copy()\n",
    "particles=['PF_pT', 'PF_dR', 'PF_fromAK5Jet']\n",
    "particles_=data[['PF_pT', 'PF_dR', 'PF_fromAK5Jet']].copy()\n",
    "#add some of the \"per-particle information\" to the data frame/training\n",
    "print particles_.head()\n",
    "\n",
    "#Adding a column containing the target\n",
    "data_['target']=data['isPhysG']\n",
    "\n",
    "n_particles = 20\n",
    "df2=pd.DataFrame()\n",
    "#Crazy compact flattening/unrolling the particle level variables stored as vectors in the jets\n",
    "for column in particles:\n",
    "    column_names = [column+'_'+str(x) for x in range(n_particles)]\n",
    "    df2=pd.concat([df2, pd.DataFrame(pd.DataFrame(pad_sequences(particles_[column].tolist(),\n",
    "                                                                maxlen=n_particles, padding='post', dtype='float64'),\n",
    "                                                  columns=column_names))], axis=1)\n",
    "\n",
    "print data_.head()\n",
    "data_=pd.concat([data_, df2], axis = 1)\n",
    "print data_.head()\n",
    "\n",
    "\n",
    "data_=data_.dropna()\n",
    "#same cleaning as above.\n",
    "# However, would want to do more: \n",
    "# - Only keep those events where PF_fromAK5Jet is true\n",
    "# and [maybe; at least for charged particles] fromPV >=2 \n",
    "# (charged hadron selection to suppress PU)\n",
    "\n",
    "train_x,test = train_test_split(data_,test_size=0.15,random_state=7)\n",
    "train_y = np.array(train_x.target)\n",
    "train_x = np.array(train_x.drop(['target'],axis=1))\n",
    "\n",
    "a_inp = Input(shape=(train_x.shape[1],))\n",
    "a = Dense(250,activation='relu')(a_inp)\n",
    "a = Dense(100,activation='relu')(a)\n",
    "a = Dense(50,activation='relu')(a)\n",
    "a_out = Dense(1,activation='sigmoid')(a)\n",
    "model = Model(inputs=a_inp,outputs=a_out)\n",
    "model.compile(loss='binary_crossentropy',optimizer='Adam',metrics=['acc'])\n",
    "\n",
    "model.fit(train_x,train_y,epochs=6,batch_size=1024,class_weight=class_weights,\n",
    "         validation_split=0.1,shuffle=True,verbose=0, callbacks=[TQDMNotebookCallback()])"
   ]
  },
  {
   "cell_type": "code",
   "execution_count": 14,
   "metadata": {},
   "outputs": [
    {
     "data": {
      "text/plain": [
       "Text(0.5,1,'DNN classifier')"
      ]
     },
     "execution_count": 14,
     "metadata": {},
     "output_type": "execute_result"
    },
    {
     "data": {
      "image/png": "[encoded data removed]",
      "text/plain": [
       "<Figure size 432x288 with 1 Axes>"
      ]
     },
     "metadata": {},
     "output_type": "display_data"
    }
   ],
   "source": [
    "test.loc[:,'predictions']=model.predict(np.array(test.drop(['target'],axis=1).copy()))\n",
    "\n",
    "plt.clf()\n",
    "binning=np.arange(0.0,1.0,0.05)\n",
    "plt.hist(test[test['target']==1]['predictions'],bins=binning,alpha=0.8,label=\"Gluons\",density=1)\n",
    "plt.hist(test[test['target']==0]['predictions'],bins=binning,alpha=0.8,label=\"Quarks\",density=1)\n",
    "plt.legend()\n",
    "plt.xlabel('DNN output value')\n",
    "plt.title('DNN classifier')"
   ]
  },
  {
   "cell_type": "code",
   "execution_count": 15,
   "metadata": {},
   "outputs": [
    {
     "data": {
      "image/png": "[encoded data removed]",
      "text/plain": [
       "<Figure size 432x288 with 1 Axes>"
      ]
     },
     "metadata": {},
     "output_type": "display_data"
    }
   ],
   "source": [
    "from sklearn.metrics import roc_auc_score,roc_curve,auc\n",
    "fpr_,tpr_, thresholds  = roc_curve(np.array(test['target']),np.array(test['predictions']))\n",
    "roc_auc_ = auc(fpr_, tpr_)\n",
    "\n",
    "\n",
    "plt.clf()\n",
    "plt.plot(fpr,tpr,'b',label='Before AUC = %0.2f'% roc_auc)\n",
    "plt.plot(fpr_,tpr_,'r',label='After AUC = %0.2f'% roc_auc_)\n",
    "plt.plot([0,1],[0,1],'k--')\n",
    "plt.xlim([0.0,1.0])\n",
    "plt.ylim([0.0,1.0])\n",
    "plt.legend(loc='lower right')\n",
    "plt.title(\"Receiver Operating Characteristic\")\n",
    "plt.ylabel('True positive rate')\n",
    "plt.xlabel('False positive rate')\n",
    "plt.savefig('roc_curve.png')\n"
   ]
  },
  {
   "cell_type": "markdown",
   "metadata": {},
   "source": [
    "Adding new variables may increase the accuracy of the classifier. For the 10K sample here, the training sample is rather small and the input hasn't been cleaned, completely, so we even see a deteriorated performance. In genera, the performance can be further enhanced with more training statistics, more complex networks, preprocessing input variables with PCA whitening, and adding more input variables. But for this exercise this is enough."
   ]
  }
 ],
 "metadata": {
  "kernelspec": {
   "display_name": "Python 2",
   "language": "python",
   "name": "python2"
  },
  "language_info": {
   "codemirror_mode": {
    "name": "ipython",
    "version": 2
   },
   "file_extension": ".py",
   "mimetype": "text/x-python",
   "name": "python",
   "nbconvert_exporter": "python",
   "pygments_lexer": "ipython2",
   "version": "2.7.17"
  },
  "widgets": {
   "state": {
    "08a6f31b9a8c4a029404f1aaf223f74a": {
     "views": [
      {
       "cell_index": 9
      }
     ]
    },
    "0d1e8b990608488193406b09b99a5e92": {
     "views": [
      {
       "cell_index": 9
      }
     ]
    },
    "20fb655374694404809ec4d213f8e7d6": {
     "views": [
      {
       "cell_index": 9
      }
     ]
    },
    "2212de19566f4041b5ebe53a9fda84ec": {
     "views": [
      {
       "cell_index": 14
      }
     ]
    },
    "599e0a034ef64d9fae2ae6ab96977ad4": {
     "views": [
      {
       "cell_index": 9
      }
     ]
    },
    "5b0ff9987cb348ef8643374a849056ba": {
     "views": [
      {
       "cell_index": 14
      }
     ]
    },
    "5efe7190f5b04d739ff952cf2568d5b9": {
     "views": [
      {
       "cell_index": 9
      }
     ]
    },
    "6a1a2dcc5c104c1691cb6db155d0ff2d": {
     "views": [
      {
       "cell_index": 9
      }
     ]
    },
    "a66855a84a6647e4973583b782e299eb": {
     "views": [
      {
       "cell_index": 14
      }
     ]
    },
    "aaacce64a9ab457faaf6c877d9e4d016": {
     "views": [
      {
       "cell_index": 9
      }
     ]
    },
    "b4fe8611ac364e2195a4192ff95554db": {
     "views": [
      {
       "cell_index": 14
      }
     ]
    },
    "b89afc9a81fb41f7a6210b8f41d225c5": {
     "views": [
      {
       "cell_index": 14
      }
     ]
    },
    "c0504b8d91a344d69adc3c8ad57409d4": {
     "views": [
      {
       "cell_index": 9
      }
     ]
    },
    "d1b34b9722fd48dea752c72d5090baef": {
     "views": [
      {
       "cell_index": 9
      }
     ]
    },
    "deeef71954134001853319ac11d27f96": {
     "views": [
      {
       "cell_index": 14
      }
     ]
    },
    "fcdd1c99847343b89ac7e9ede4887567": {
     "views": [
      {
       "cell_index": 14
      }
     ]
    },
    "fd877073ebbe4aaba1567d9b6631d03b": {
     "views": [
      {
       "cell_index": 9
      }
     ]
    },
    "ff6d2301d4354a61bca3e452e0b7b871": {
     "views": [
      {
       "cell_index": 9
      }
     ]
    }
   },
   "version": "1.2.0"
  }
 },
 "nbformat": 4,
 "nbformat_minor": 2
}
